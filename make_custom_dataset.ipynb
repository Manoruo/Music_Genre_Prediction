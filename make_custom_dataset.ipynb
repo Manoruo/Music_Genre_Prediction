{
 "cells": [
  {
   "cell_type": "code",
   "execution_count": 1,
   "metadata": {},
   "outputs": [],
   "source": [
    "import pandas as pd \n",
    "from utils.lastfm_functions import get_tags, get_top_tracks\n",
    "from utils.genuis_functions import get_lyrics\n",
    "from utils.genre_helper import tags_to_genre"
   ]
  },
  {
   "cell_type": "markdown",
   "metadata": {},
   "source": [
    "# Dataset Curation"
   ]
  },
  {
   "cell_type": "code",
   "execution_count": 2,
   "metadata": {},
   "outputs": [],
   "source": [
    "ALL_GENRES = {\n",
    "   \"pop\": ['pop'],\n",
    "   \"rock\": ['rock'],\n",
    "   \"hip hop\": ['hip hop', 'rap'], \n",
    "   \"dance\": ['dance', 'eccentric', 'party', 'festive'],\n",
    "   \"country\": ['country'],\n",
    "   \"jazz\": ['jazz'],\n",
    "   \"blues\": ['blues'],\n",
    "   \"r&b\": ['r&b', 'soul'],\n",
    "   \"metal\": ['metal'],\n",
    "   'gospel': ['gospel', 'church', 'spirtual'],\n",
    "   'alternative': ['alternative', 'indie']\n",
    "   }"
   ]
  },
  {
   "cell_type": "code",
   "execution_count": 3,
   "metadata": {},
   "outputs": [],
   "source": [
    "def make_data_set(num_songs=5):\n",
    " \n",
    "    # Get the top n songs \n",
    "    tracks = get_top_tracks(num_songs)  \n",
    "    \n",
    "    # init dataframe to hold all the data \n",
    "    df = pd.DataFrame(columns=['song', 'artist', 'genre', 'lyrics'])\n",
    "    count = 0 \n",
    "    id = 0\n",
    "    for track in tracks:\n",
    "        id = id + 1 \n",
    "        print(\"{}/{}\".format(id, num_songs))\n",
    "        # get song info for track \n",
    "        song = track['name']    \n",
    "        artist = track['artist']['name']\n",
    "        \n",
    "        tags = get_tags(artist, song)\n",
    "        genre = tags and tags_to_genre(tags, ALL_GENRES)\n",
    "        lyrics = get_lyrics(artist, song)\n",
    "        \n",
    "        # store in dataframe\n",
    "        if genre and lyrics:\n",
    "            print(\"Successfully added info for: {} by {}\".format(song, artist))\n",
    "            df.loc[len(df.index)] = [song, artist, genre, lyrics]\n",
    "            count += 1 \n",
    "        else:\n",
    "            print(\"Error adding {} by {}\".format(song, artist))\n",
    "    \n",
    "    print(\"Added {} / {} songs\".format(count, len(tracks)))\n",
    "    df.to_csv(\"custom_dataset.csv\", index=False)\n",
    "        \n",
    "    return df\n"
   ]
  },
  {
   "cell_type": "code",
   "execution_count": 4,
   "metadata": {},
   "outputs": [
    {
     "name": "stdout",
     "output_type": "stream",
     "text": [
      "1/5\n",
      "Successfully added info for: My Love Mine All Mine by Mitski\n",
      "2/5\n",
      "Successfully added info for: yes, and? by Ariana Grande\n",
      "3/5\n",
      "Successfully added info for: Pink + White by Frank Ocean\n",
      "4/5\n",
      "Successfully added info for: Cruel Summer by Taylor Swift\n",
      "5/5\n",
      "Successfully added info for: See You Again (feat. Kali Uchis) by Tyler, the Creator\n",
      "Added 5 / 5 songs\n"
     ]
    }
   ],
   "source": [
    "NUM_SONGS = 100\n",
    "dataset = make_data_set(NUM_SONGS)"
   ]
  }
 ],
 "metadata": {
  "kernelspec": {
   "display_name": ".venv",
   "language": "python",
   "name": "python3"
  },
  "language_info": {
   "codemirror_mode": {
    "name": "ipython",
    "version": 3
   },
   "file_extension": ".py",
   "mimetype": "text/x-python",
   "name": "python",
   "nbconvert_exporter": "python",
   "pygments_lexer": "ipython3",
   "version": "3.9.13"
  }
 },
 "nbformat": 4,
 "nbformat_minor": 2
}
