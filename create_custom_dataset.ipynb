{
 "cells": [
  {
   "cell_type": "markdown",
   "metadata": {},
   "source": [
    "### Custom Dataset Creation Script\n",
    "\n",
    "This Python script fetches information for the top N songs using the Last.fm API, processes the data, and creates a custom dataset. The resulting dataset includes details such as song name, artist, genre, and lyrics.\n",
    "\n",
    "### Configurables:\n",
    "\n",
    "- **`ALL_GENRES`:**\n",
    "  - All possible genres obtained from the 'config.json' file.\n",
    "\n",
    "- **`NUM_SONGS`:**\n",
    "  - Default number of top songs to fetch. Set to 100 by default.\n",
    "\n",
    "### Instructions for Creating Dataset\n",
    "\n",
    "To generate the custom dataset, run each cell in order. The resulting dataset will be stored as CSV file called 'custom_dataset.csv' in the 'data/custom' directory. You can name this so it wont be overwritten.\n"
   ]
  },
  {
   "cell_type": "code",
   "execution_count": 1,
   "metadata": {},
   "outputs": [],
   "source": [
    "import pandas as pd \n",
    "from utils.lastfm_functions import get_tags, get_top_tracks\n",
    "from utils.genuis_functions import get_lyrics\n",
    "from utils.genre_helper import tags_to_genre\n",
    "import json "
   ]
  },
  {
   "cell_type": "code",
   "execution_count": 2,
   "metadata": {},
   "outputs": [],
   "source": [
    "# read global constants in from the config file\n",
    "json_file_path = 'config.json'\n",
    "with open(json_file_path, 'r') as json_file:\n",
    "    config_dict = json.load(json_file)"
   ]
  },
  {
   "cell_type": "code",
   "execution_count": 3,
   "metadata": {},
   "outputs": [],
   "source": [
    "ALL_GENRES = config_dict['ALL_GENRES'] # All possible genres obtained from the configuration file\n",
    "NUM_SONGS = 100 # Default number of top songs to fetch"
   ]
  },
  {
   "cell_type": "code",
   "execution_count": 4,
   "metadata": {},
   "outputs": [],
   "source": [
    "def make_data_set(num_songs=5):\n",
    "    \"\"\"\n",
    "    Fetches information for the top N songs using Last.fm API, processes the data, and creates a custom dataset.\n",
    "\n",
    "    Args:\n",
    "        num_songs (int, optional): Number of top songs to fetch. Defaults to 5.\n",
    "\n",
    "    Returns:\n",
    "        DataFrame: A Pandas DataFrame containing information such as song name, artist, genre, and lyrics.\n",
    "    \"\"\"\n",
    "    # Get the top n songs \n",
    "    tracks = get_top_tracks(num_songs)  \n",
    "    \n",
    "    # init dataframe to hold all the data \n",
    "    df = pd.DataFrame(columns=['song', 'artist', 'genre', 'lyrics'])\n",
    "    count = 0 \n",
    "    id = 0\n",
    "    for track in tracks:\n",
    "        id = id + 1 \n",
    "        print(\"{}/{}\".format(id, num_songs))\n",
    "        # get song info for track \n",
    "        song = track['name']    \n",
    "        artist = track['artist']['name']\n",
    "        \n",
    "        tags = get_tags(artist, song)\n",
    "        genre = tags and tags_to_genre(tags, ALL_GENRES)\n",
    "        lyrics = get_lyrics(artist, song)\n",
    "        \n",
    "        # store in dataframe\n",
    "        if genre and lyrics:\n",
    "            print(\"Successfully added info for: {} by {}\".format(song, artist))\n",
    "            df.loc[len(df.index)] = [song, artist, genre, lyrics]\n",
    "            count += 1 \n",
    "        else:\n",
    "            print(\"Error adding {} by {}\".format(song, artist))\n",
    "    \n",
    "    print(\"Added {} / {} songs\".format(count, len(tracks)))\n",
    "    df.to_csv(\"custom_dataset.csv\", index=False)\n",
    "        \n",
    "    return df"
   ]
  },
  {
   "cell_type": "code",
   "execution_count": 5,
   "metadata": {},
   "outputs": [
    {
     "name": "stdout",
     "output_type": "stream",
     "text": [
      "1/100\n",
      "Successfully added info for: My Love Mine All Mine by Mitski\n",
      "2/100\n",
      "Successfully added info for: yes, and? by Ariana Grande\n",
      "3/100\n",
      "Successfully added info for: Pink + White by Frank Ocean\n",
      "4/100\n",
      "Successfully added info for: See You Again (feat. Kali Uchis) by Tyler, the Creator\n",
      "5/100\n",
      "Successfully added info for: Cruel Summer by Taylor Swift\n",
      "6/100\n",
      "Successfully added info for: Lovers Rock by TV Girl\n",
      "7/100\n",
      "Successfully added info for: Murder on the Dancefloor by Sophie Ellis-Bextor\n",
      "8/100\n",
      "Successfully added info for: Feather by Sabrina Carpenter\n",
      "9/100\n",
      "Error adding Kill Bill by SZA\n",
      "10/100\n",
      "Successfully added info for: vampire by Olivia Rodrigo\n",
      "11/100\n",
      "Successfully added info for: Stargirl Interlude by The Weeknd\n",
      "12/100\n"
     ]
    }
   ],
   "source": [
    "dataset = make_data_set(NUM_SONGS)"
   ]
  }
 ],
 "metadata": {
  "kernelspec": {
   "display_name": ".venv",
   "language": "python",
   "name": "python3"
  },
  "language_info": {
   "codemirror_mode": {
    "name": "ipython",
    "version": 3
   },
   "file_extension": ".py",
   "mimetype": "text/x-python",
   "name": "python",
   "nbconvert_exporter": "python",
   "pygments_lexer": "ipython3",
   "version": "3.9.13"
  }
 },
 "nbformat": 4,
 "nbformat_minor": 2
}
